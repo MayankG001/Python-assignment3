{
 "cells": [
  {
   "cell_type": "markdown",
   "id": "651bde2e-da74-406b-8ba6-968d95f8d61c",
   "metadata": {},
   "source": [
    "# Assignment 3"
   ]
  },
  {
   "cell_type": "markdown",
   "id": "1873cdf3-a47f-4ddb-b656-6ba76b52e888",
   "metadata": {},
   "source": [
    "Q1. What are the characteristics of the tuples? Is tuple immutable?"
   ]
  },
  {
   "cell_type": "markdown",
   "id": "244d6eb0-5d86-420f-8dca-f7e715d925f5",
   "metadata": {},
   "source": [
    "''' Tuples are used to store multiple items in a single variable.Tuple is one of 4 built-in data types in Python used to store collections of data,\n",
    "the other 3 are List, Set, and Dictionary, all with different qualities and usage. A tuple is a collection which is ordered and unchangeable and it is immutable.'''"
   ]
  },
  {
   "cell_type": "markdown",
   "id": "b865ba1c-1a53-47ca-b3c5-e27bed868b6e",
   "metadata": {},
   "source": [
    "Q2. What are the two tuple methods in python? Give an example of each method. Give a reason why\n",
    "tuples have only two in-built methods as compared to Lists."
   ]
  },
  {
   "cell_type": "code",
   "execution_count": 5,
   "id": "cfa9328f-5ad9-49cd-8cfa-40bd57a6d72f",
   "metadata": {},
   "outputs": [
    {
     "data": {
      "text/plain": [
       "2"
      ]
     },
     "execution_count": 5,
     "metadata": {},
     "output_type": "execute_result"
    }
   ],
   "source": [
    "# There are two in-built methods for tuples in Python:\n",
    "\n",
    "# 1. count() - Returns the number of times a specified value occurs in a tuple.\n",
    "# Example: \n",
    "t = (1,2,3,5,5,7)\n",
    "t.count(5)\n"
   ]
  },
  {
   "cell_type": "code",
   "execution_count": 11,
   "id": "4328ddb5-62ee-4668-907c-46afb16d2960",
   "metadata": {},
   "outputs": [
    {
     "data": {
      "text/plain": [
       "0"
      ]
     },
     "execution_count": 11,
     "metadata": {},
     "output_type": "execute_result"
    }
   ],
   "source": [
    "# 2. index() - Searches the tuple for a specified value and returns the first index at which it is found.\n",
    "# Example:\n",
    "t = (1,2,3,5,5,7)\n",
    "t.index(1)\n"
   ]
  },
  {
   "cell_type": "markdown",
   "id": "3120da82-cab8-42b0-8d49-c9ebf9784532",
   "metadata": {},
   "source": [
    "Q3. Which collection datatypes in python do not allow duplicate items? Write a code using a set to remove\n",
    "duplicates from the given list.\n",
    "List = [1, 1, 1, 2, 1, 3, 1, 4, 2, 1, 2, 2, 2, 3, 2, 4, 3, 1, 3, 2, 3, 3, 3, 4, 4, 1, 4, 2, 4, 3, 4, 4]"
   ]
  },
  {
   "cell_type": "code",
   "execution_count": 23,
   "id": "f1329730-c3eb-42fe-ae2f-a84cc9a141da",
   "metadata": {},
   "outputs": [],
   "source": [
    "# set do not allow the duplicate items in it.\n",
    "List = [1, 1, 1, 2, 1, 3, 1, 4, 2, 1, 2, 2, 2, 3, 2, 4, 3, 1, 3, 2, 3, 3, 3, 4, 4, 1, 4, 2, 4, 3, 4, 4]\n",
    "s = {1, 1, 1, 2, 1, 3, 1, 4, 2, 1, 2, 2, 2, 3, 2, 4, 3, 1, 3, 2, 3, 3, 3, 4, 4, 1, 4, 2, 4, 3, 4, 4}\n"
   ]
  },
  {
   "cell_type": "code",
   "execution_count": 24,
   "id": "fb823bb8-7995-4820-aa47-92ea40d85586",
   "metadata": {},
   "outputs": [
    {
     "data": {
      "text/plain": [
       "{1, 2, 3, 4}"
      ]
     },
     "execution_count": 24,
     "metadata": {},
     "output_type": "execute_result"
    }
   ],
   "source": [
    "s"
   ]
  },
  {
   "cell_type": "code",
   "execution_count": 62,
   "id": "d5c5e1ad-a11a-4a03-a22d-2e0b6a546aee",
   "metadata": {},
   "outputs": [
    {
     "name": "stdout",
     "output_type": "stream",
     "text": [
      "[1, 2, 3, 4]\n"
     ]
    }
   ],
   "source": [
    "# Another way.\n",
    "List = [1, 1, 1, 2, 1, 3, 1, 4, 2, 1, 2, 2, 2, 3, 2, 4, 3, 1, 3, 2, 3, 3, 3, 4, 4, 1, 4, 2, 4, 3, 4, 4]\n",
    "s = list(set)\n",
    "print(s)\n"
   ]
  },
  {
   "cell_type": "markdown",
   "id": "a8160476-66f6-43f4-b4d4-3a97d8178489",
   "metadata": {},
   "source": [
    "Q4. Explain the difference between the union() and update() methods for a set. Give an example of\n",
    "each method."
   ]
  },
  {
   "cell_type": "code",
   "execution_count": 66,
   "id": "229fe0cb-96b3-40d4-9a1a-6e331a03a423",
   "metadata": {},
   "outputs": [
    {
     "name": "stdout",
     "output_type": "stream",
     "text": [
      "{1, 2, 3, 4, 5, 6, 7, 8, 9}\n"
     ]
    }
   ],
   "source": [
    "# In Python, the union() and update() methods are both used to combine two sets,\n",
    "# update() adds all missing elements to the set on which it is called whereas set. union() creates a new set.\n",
    "\n",
    "# union() - The union() method returns a set that contains all items from the original set, and all items from the specified set(s).\n",
    "## Example:\n",
    "set1 = {1,2,3,4}\n",
    "set2 = {5,6,7,8,9}\n",
    "set3 = set1.union(set2)\n",
    "print(set3)"
   ]
  },
  {
   "cell_type": "code",
   "execution_count": 65,
   "id": "e9e4015d-e1a9-4d5e-8849-5393a353945f",
   "metadata": {},
   "outputs": [
    {
     "name": "stdout",
     "output_type": "stream",
     "text": [
      "{1, 2, 3, 4, 5, 8, 9}\n"
     ]
    }
   ],
   "source": [
    "# update - update() method inserts the specified items to the dictionary.\n",
    "set1 = {1,2,3,4}\n",
    "set2 = {5,8,9}\n",
    "set1.update(set2)\n",
    "print(set1)"
   ]
  },
  {
   "cell_type": "markdown",
   "id": "39d17354-900f-4b0f-ae2e-3c3c21aa58fe",
   "metadata": {},
   "source": [
    "Q5. What is a dictionary? Give an example. Also, state whether a dictionary is ordered or unordered."
   ]
  },
  {
   "cell_type": "markdown",
   "id": "6d8f7961-e58b-4300-903f-5718ff10c2ee",
   "metadata": {},
   "source": [
    "A dictionary in Python is an unordered collection of key-value pairs, where each key is unique and used to access its associated value. Dictionaries are defined using curly braces {} and can contain items of different data types."
   ]
  },
  {
   "cell_type": "code",
   "execution_count": 81,
   "id": "70a8a5df-c932-4cc2-83ae-e73897ef4335",
   "metadata": {},
   "outputs": [
    {
     "name": "stdout",
     "output_type": "stream",
     "text": [
      "{'brand': 'Ford', 'model': 'Mustang', 'year': 2020}\n"
     ]
    }
   ],
   "source": [
    "dict = {\"brand\": \"Ford\",\"model\": \"Mustang\",\"year\": 1964,\"year\": 2020}\n",
    "print(dict)"
   ]
  },
  {
   "cell_type": "markdown",
   "id": "8f81bf96-be74-4d16-b221-066883d447f2",
   "metadata": {},
   "source": [
    "Q6. Can we create a nested dictionary? If so, please give an example by creating a simple one-level\n",
    "nested dictionary."
   ]
  },
  {
   "cell_type": "markdown",
   "id": "99903585-35b5-434b-b6e3-1e7fb95955fa",
   "metadata": {},
   "source": [
    "Yes, We can create a nested dictionary in Python. A nested dictionary is a dictionary that contains another dictionary as its value."
   ]
  },
  {
   "cell_type": "code",
   "execution_count": 75,
   "id": "8d3e9f47-364a-4312-bc61-175b3fd84e2b",
   "metadata": {},
   "outputs": [
    {
     "name": "stdout",
     "output_type": "stream",
     "text": [
      "32\n"
     ]
    }
   ],
   "source": [
    "# Example\n",
    "person = {'name': 'John', 'details': {'age': 32, 'gender': 'Male'}}    \n",
    "print(person['details']['age'])\n",
    "# Output: 32\n"
   ]
  },
  {
   "cell_type": "markdown",
   "id": "402cf25c-aef3-4a59-bfa0-54be922f917b",
   "metadata": {},
   "source": [
    "Q7. Using setdefault() method, create key named topics in the given dictionary and also add the value of\n",
    "the key as this list ['Python', 'Machine Learning’, 'Deep Learning']\n",
    "dict1 = {'language' : 'Python', 'course': 'Data Science Masters'}"
   ]
  },
  {
   "cell_type": "code",
   "execution_count": 77,
   "id": "caf99bcc-c616-4cb3-81c0-c33420605cc7",
   "metadata": {},
   "outputs": [],
   "source": [
    "# The setdefault() method returns the value of the item with the specified key. If the key does not exist, insert the key, with the specified value"
   ]
  },
  {
   "cell_type": "code",
   "execution_count": 79,
   "id": "ec13b12f-fbf2-4811-97e4-c67ab7d7eba6",
   "metadata": {},
   "outputs": [
    {
     "name": "stdout",
     "output_type": "stream",
     "text": [
      "{'language': 'Python', 'course': 'Data Science Masters', 'topics': ['Python', 'Machine Learning', 'Deep Learning']}\n"
     ]
    }
   ],
   "source": [
    "dict1 = {'language' : 'Python', 'course': 'Data Science Masters'}\n",
    "topics = ['Python', 'Machine Learning', 'Deep Learning']\n",
    "\n",
    "dict1.setdefault('topics', topics)\n",
    "\n",
    "print(dict1)\n",
    "# Output: {'language': 'Python', 'course': 'Data Science Masters', 'topics': ['Python', 'Machine Learning', 'Deep Learning']}\n"
   ]
  },
  {
   "cell_type": "markdown",
   "id": "abaae91d-5653-4184-998c-3c26940ce0d5",
   "metadata": {},
   "source": [
    "Q8. What are the three view objects in dictionaries? Use the three in-built methods in python to display\n",
    "these three view objects for the given dictionary.\n",
    "dict1 = {'Sport': 'Cricket' , 'Teams': ['India', 'Australia', 'England', 'South Africa', 'Sri Lanka', 'New Zealand']}"
   ]
  },
  {
   "cell_type": "markdown",
   "id": "a3ca6159-2d75-4f78-9fbc-a7201b5a7503",
   "metadata": {},
   "source": [
    "dictionaries have three view objects that provide different ways to view the items in the dictionary: keys(), values(), and items().\n",
    "\n",
    "keys() returns a view object that displays a list of all the keys in the dictionary.\n",
    "\n",
    "values() returns a view object that displays a list of all the values in the dictionary.\n",
    "\n",
    "items() returns a view object that displays a list of all the key-value pairs in the dictionary as tuples."
   ]
  },
  {
   "cell_type": "code",
   "execution_count": 80,
   "id": "a1057628-993a-4050-840f-4a649803b345",
   "metadata": {},
   "outputs": [
    {
     "name": "stdout",
     "output_type": "stream",
     "text": [
      "dict_keys(['Sport', 'Teams'])\n",
      "dict_values(['Cricket', ['India', 'Australia', 'England', 'South Africa', 'Sri Lanka', 'New Zealand']])\n",
      "dict_items([('Sport', 'Cricket'), ('Teams', ['India', 'Australia', 'England', 'South Africa', 'Sri Lanka', 'New Zealand'])])\n"
     ]
    }
   ],
   "source": [
    "# Example:\n",
    "\n",
    "dict1 = {'Sport': 'Cricket' , 'Teams': ['India', 'Australia', 'England', 'South Africa', 'Sri Lanka', 'New Zealand']}\n",
    "\n",
    "print(dict1.keys())\n",
    "# Output: dict_keys(['Sport', 'Teams'])\n",
    "\n",
    "print(dict1.values())\n",
    "# Output: dict_values(['Cricket', ['India', 'Australia', 'England', 'South Africa', 'Sri Lanka', 'New Zealand']])\n",
    "\n",
    "print(dict1.items())\n",
    "# Output: dict_items([('Sport', 'Cricket'), ('Teams', ['India', 'Australia', 'England', 'South Africa', 'Sri Lanka', 'New Zealand'])])\n"
   ]
  }
 ],
 "metadata": {
  "kernelspec": {
   "display_name": "Python 3 (ipykernel)",
   "language": "python",
   "name": "python3"
  },
  "language_info": {
   "codemirror_mode": {
    "name": "ipython",
    "version": 3
   },
   "file_extension": ".py",
   "mimetype": "text/x-python",
   "name": "python",
   "nbconvert_exporter": "python",
   "pygments_lexer": "ipython3",
   "version": "3.10.8"
  }
 },
 "nbformat": 4,
 "nbformat_minor": 5
}
